{
 "cells": [
  {
   "cell_type": "markdown",
   "id": "34f4c262",
   "metadata": {},
   "source": [
    "# Data Visualization with Seaborn-barplot\n",
    "\n",
    "[Seaborn: barplot](#Seaborn:-barplot)\n",
    "\n",
    "[Intro Visuals](#Intro-Visuals)\n",
    "\n"
   ]
  },
  {
   "cell_type": "markdown",
   "id": "25763828",
   "metadata": {},
   "source": [
    "# [Seaborn: barplot](https://github.com/kimfetti/Videos/blob/master/Seaborn/14_barplot.ipynb)\n",
    "- [YouTube-displot | Kimberly Fessel](https://www.youtube.com/watch?v=3Yh4U5OB5Sk)\n",
    "```python\n",
    "seaborn.barplot(x=None, y=None, hue=None, data=None, estimator=function, ci=95)\n",
    "```"
   ]
  },
  {
   "cell_type": "code",
   "execution_count": 8,
   "id": "67b18cb8",
   "metadata": {},
   "outputs": [],
   "source": [
    "import seaborn as sns\n",
    "\n",
    "import numpy as np\n",
    "import pandas as pd\n",
    "from matplotlib import pyplot as plt"
   ]
  },
  {
   "cell_type": "code",
   "execution_count": 9,
   "id": "901e460e",
   "metadata": {},
   "outputs": [],
   "source": [
    "penguins = sns.load_dataset('penguins')"
   ]
  },
  {
   "cell_type": "code",
   "execution_count": 10,
   "id": "47b8c978",
   "metadata": {},
   "outputs": [
    {
     "data": {
      "text/html": [
       "<div>\n",
       "<style scoped>\n",
       "    .dataframe tbody tr th:only-of-type {\n",
       "        vertical-align: middle;\n",
       "    }\n",
       "\n",
       "    .dataframe tbody tr th {\n",
       "        vertical-align: top;\n",
       "    }\n",
       "\n",
       "    .dataframe thead th {\n",
       "        text-align: right;\n",
       "    }\n",
       "</style>\n",
       "<table border=\"1\" class=\"dataframe\">\n",
       "  <thead>\n",
       "    <tr style=\"text-align: right;\">\n",
       "      <th></th>\n",
       "      <th>species</th>\n",
       "      <th>island</th>\n",
       "      <th>bill_length_mm</th>\n",
       "      <th>bill_depth_mm</th>\n",
       "      <th>flipper_length_mm</th>\n",
       "      <th>body_mass_g</th>\n",
       "      <th>sex</th>\n",
       "    </tr>\n",
       "  </thead>\n",
       "  <tbody>\n",
       "    <tr>\n",
       "      <th>0</th>\n",
       "      <td>Adelie</td>\n",
       "      <td>Torgersen</td>\n",
       "      <td>39.1</td>\n",
       "      <td>18.7</td>\n",
       "      <td>181.0</td>\n",
       "      <td>3750.0</td>\n",
       "      <td>Male</td>\n",
       "    </tr>\n",
       "    <tr>\n",
       "      <th>1</th>\n",
       "      <td>Adelie</td>\n",
       "      <td>Torgersen</td>\n",
       "      <td>39.5</td>\n",
       "      <td>17.4</td>\n",
       "      <td>186.0</td>\n",
       "      <td>3800.0</td>\n",
       "      <td>Female</td>\n",
       "    </tr>\n",
       "    <tr>\n",
       "      <th>2</th>\n",
       "      <td>Adelie</td>\n",
       "      <td>Torgersen</td>\n",
       "      <td>40.3</td>\n",
       "      <td>18.0</td>\n",
       "      <td>195.0</td>\n",
       "      <td>3250.0</td>\n",
       "      <td>Female</td>\n",
       "    </tr>\n",
       "    <tr>\n",
       "      <th>3</th>\n",
       "      <td>Adelie</td>\n",
       "      <td>Torgersen</td>\n",
       "      <td>NaN</td>\n",
       "      <td>NaN</td>\n",
       "      <td>NaN</td>\n",
       "      <td>NaN</td>\n",
       "      <td>NaN</td>\n",
       "    </tr>\n",
       "    <tr>\n",
       "      <th>4</th>\n",
       "      <td>Adelie</td>\n",
       "      <td>Torgersen</td>\n",
       "      <td>36.7</td>\n",
       "      <td>19.3</td>\n",
       "      <td>193.0</td>\n",
       "      <td>3450.0</td>\n",
       "      <td>Female</td>\n",
       "    </tr>\n",
       "  </tbody>\n",
       "</table>\n",
       "</div>"
      ],
      "text/plain": [
       "  species     island  bill_length_mm  bill_depth_mm  flipper_length_mm  \\\n",
       "0  Adelie  Torgersen            39.1           18.7              181.0   \n",
       "1  Adelie  Torgersen            39.5           17.4              186.0   \n",
       "2  Adelie  Torgersen            40.3           18.0              195.0   \n",
       "3  Adelie  Torgersen             NaN            NaN                NaN   \n",
       "4  Adelie  Torgersen            36.7           19.3              193.0   \n",
       "\n",
       "   body_mass_g     sex  \n",
       "0       3750.0    Male  \n",
       "1       3800.0  Female  \n",
       "2       3250.0  Female  \n",
       "3          NaN     NaN  \n",
       "4       3450.0  Female  "
      ]
     },
     "execution_count": 10,
     "metadata": {},
     "output_type": "execute_result"
    }
   ],
   "source": [
    "penguins.head()"
   ]
  },
  {
   "cell_type": "markdown",
   "id": "6657868f",
   "metadata": {},
   "source": [
    "## Intro Visuals"
   ]
  },
  {
   "cell_type": "code",
   "execution_count": 11,
   "id": "d4af07fa",
   "metadata": {},
   "outputs": [],
   "source": [
    "plt.rc('xtick', labelsize=12)\n",
    "plt.rc('ytick', labelsize=12)\n",
    "plt.rc('axes', labelsize=14)   "
   ]
  },
  {
   "cell_type": "code",
   "execution_count": 12,
   "id": "afabf353",
   "metadata": {},
   "outputs": [],
   "source": [
    "sns.set_style('white')"
   ]
  },
  {
   "cell_type": "code",
   "execution_count": 13,
   "id": "641a67f8",
   "metadata": {},
   "outputs": [],
   "source": [
    "pen_pal = {'Gentoo': '#2F8F8F',\n",
    "           'Adelie': '#F79021',\n",
    "           'Chinstrap': '#A200EF'\n",
    "          }"
   ]
  },
  {
   "cell_type": "code",
   "execution_count": 14,
   "id": "94a4e815",
   "metadata": {},
   "outputs": [
    {
     "data": {
      "image/png": "[encoded data removed]",
      "text/plain": [
       "<Figure size 576x324 with 1 Axes>"
      ]
     },
     "metadata": {
      "needs_background": "light"
     },
     "output_type": "display_data"
    }
   ],
   "source": [
    "plt.figure(figsize=(8, 4.5))\n",
    "sns.barplot(x='species', y='body_mass_g', data=penguins, \n",
    "            palette=pen_pal, errwidth=5, capsize=0.1, ci=99.5, edgecolor='slategray', linewidth=2)\n",
    "sns.despine(left=True)\n",
    "#plt.ylabel('Body Mass (g)')\n",
    "plt.xlabel('')\n",
    "plt.ylabel('')\n",
    "plt.yticks([])\n",
    "plt.xticks(fontsize=16);"
   ]
  },
  {
   "cell_type": "code",
   "execution_count": 15,
   "id": "7366a700",
   "metadata": {},
   "outputs": [
    {
     "data": {
      "image/png": "[encoded data removed]",
      "text/plain": [
       "<Figure size 288x432 with 1 Axes>"
      ]
     },
     "metadata": {
      "needs_background": "light"
     },
     "output_type": "display_data"
    }
   ],
   "source": [
    "plt.figure(figsize=(4, 6))\n",
    "sns.barplot(x='species', y='body_mass_g', data=penguins, \n",
    "            palette=pen_pal, errwidth=5, capsize=0.1, ci=None, edgecolor='slategray', linewidth=2)\n",
    "sns.despine(left=True)\n",
    "#plt.ylabel('Body Mass (g)')\n",
    "plt.xlabel('')\n",
    "plt.ylabel('')\n",
    "plt.ylim(0, 5500)\n",
    "plt.yticks([])\n",
    "plt.xticks(fontsize=16);"
   ]
  },
  {
   "cell_type": "code",
   "execution_count": 16,
   "id": "562b8e83",
   "metadata": {},
   "outputs": [
    {
     "data": {
      "image/png": "[encoded data removed]",
      "text/plain": [
       "<Figure size 288x432 with 1 Axes>"
      ]
     },
     "metadata": {
      "needs_background": "light"
     },
     "output_type": "display_data"
    }
   ],
   "source": [
    "plt.figure(figsize=(4, 6))\n",
    "sns.barplot(x='species', y='body_mass_g', data=penguins, \n",
    "            palette=pen_pal, errwidth=5, capsize=0.1, ci=99.5, edgecolor='slategray', linewidth=2)\n",
    "sns.despine(left=True)\n",
    "#plt.ylabel('Body Mass (g)')\n",
    "plt.xlabel('')\n",
    "plt.ylabel('')\n",
    "plt.ylim(0, 5500)\n",
    "plt.yticks([])\n",
    "plt.xticks(fontsize=16);"
   ]
  },
  {
   "cell_type": "code",
   "execution_count": 17,
   "id": "759b315d",
   "metadata": {},
   "outputs": [],
   "source": [
    "plt.rc('xtick', labelsize=10)\n",
    "plt.rc('ytick', labelsize=10)\n",
    "plt.rc('axes', labelsize=10)"
   ]
  },
  {
   "cell_type": "markdown",
   "id": "1816ae35",
   "metadata": {},
   "source": [
    "## Basics"
   ]
  },
  {
   "cell_type": "code",
   "execution_count": 20,
   "id": "5b5bd59b",
   "metadata": {},
   "outputs": [],
   "source": [
    "sns.set_style('darkgrid')"
   ]
  },
  {
   "cell_type": "code",
   "execution_count": 21,
   "id": "e9a9f381",
   "metadata": {},
   "outputs": [
    {
     "data": {
      "image/png": "[encoded data removed]",
      "text/plain": [
       "<Figure size 432x288 with 1 Axes>"
      ]
     },
     "metadata": {},
     "output_type": "display_data"
    }
   ],
   "source": [
    "sns.barplot(x='species', y='body_mass_g', data=penguins);"
   ]
  },
  {
   "cell_type": "code",
   "execution_count": 13,
   "id": "ee57dc7d",
   "metadata": {},
   "outputs": [
    {
     "data": {
      "text/plain": [
       "species\n",
       "Adelie       3700.662252\n",
       "Chinstrap    3733.088235\n",
       "Gentoo       5076.016260\n",
       "Name: body_mass_g, dtype: float64"
      ]
     },
     "execution_count": 13,
     "metadata": {},
     "output_type": "execute_result"
    }
   ],
   "source": [
    "penguins.groupby('species').body_mass_g.mean()"
   ]
  },
  {
   "cell_type": "markdown",
   "id": "0fc46dc0",
   "metadata": {},
   "source": [
    "### Horizontal Barplot"
   ]
  },
  {
   "cell_type": "code",
   "execution_count": 14,
   "id": "5011f633",
   "metadata": {},
   "outputs": [
    {
     "data": {
      "image/png": "[encoded data removed]",
      "text/plain": [
       "<Figure size 432x288 with 1 Axes>"
      ]
     },
     "metadata": {
      "needs_background": "light"
     },
     "output_type": "display_data"
    }
   ],
   "source": [
    "sns.barplot(x='body_mass_g', y='species', data=penguins);"
   ]
  },
  {
   "cell_type": "markdown",
   "id": "6507bf18",
   "metadata": {},
   "source": [
    "## Interval Estimates"
   ]
  },
  {
   "cell_type": "markdown",
   "id": "52843893",
   "metadata": {},
   "source": [
    "### Confidence Interval (```ci```)\n",
    "Check out KimFessel's video on [Seaborn Lineplots](https://www.youtube.com/watch?v=CMRVEKf9jWA) for more information."
   ]
  },
  {
   "cell_type": "code",
   "execution_count": 26,
   "id": "64e90df0",
   "metadata": {},
   "outputs": [
    {
     "data": {
      "image/png": "[encoded data removed]",
      "text/plain": [
       "<Figure size 432x288 with 1 Axes>"
      ]
     },
     "metadata": {},
     "output_type": "display_data"
    }
   ],
   "source": [
    "sns.barplot(x='species', y='body_mass_g', data=penguins, ci=95);\n",
    "# Defoult is 95% "
   ]
  },
  {
   "cell_type": "code",
   "execution_count": 27,
   "id": "1c2e61c3",
   "metadata": {},
   "outputs": [
    {
     "data": {
      "image/png": "[encoded data removed]",
      "text/plain": [
       "<Figure size 432x288 with 1 Axes>"
      ]
     },
     "metadata": {},
     "output_type": "display_data"
    }
   ],
   "source": [
    "sns.barplot(x='species', y='body_mass_g', data=penguins, ci=65);"
   ]
  },
  {
   "cell_type": "code",
   "execution_count": 32,
   "id": "8b94c600",
   "metadata": {
    "scrolled": true
   },
   "outputs": [
    {
     "data": {
      "image/png": "[encoded data removed]",
      "text/plain": [
       "<Figure size 432x288 with 1 Axes>"
      ]
     },
     "metadata": {},
     "output_type": "display_data"
    }
   ],
   "source": [
    "sns.barplot(x='species', y='body_mass_g', data=penguins, ci=None);\n",
    "# If we have a lot of data and don't need CIs we can turn it off. "
   ]
  },
  {
   "cell_type": "markdown",
   "id": "88d32986",
   "metadata": {},
   "source": [
    "## Estimator"
   ]
  },
  {
   "cell_type": "code",
   "execution_count": 33,
   "id": "8282eb27",
   "metadata": {},
   "outputs": [
    {
     "data": {
      "image/png": "[encoded data removed]",
      "text/plain": [
       "<Figure size 432x288 with 1 Axes>"
      ]
     },
     "metadata": {},
     "output_type": "display_data"
    }
   ],
   "source": [
    "sns.barplot(x='species', y='body_mass_g', data=penguins,\n",
    "           estimator=np.std);"
   ]
  },
  {
   "cell_type": "code",
   "execution_count": 27,
   "id": "a70ba24e",
   "metadata": {},
   "outputs": [
    {
     "data": {
      "text/html": [
       "<div>\n",
       "<style scoped>\n",
       "    .dataframe tbody tr th:only-of-type {\n",
       "        vertical-align: middle;\n",
       "    }\n",
       "\n",
       "    .dataframe tbody tr th {\n",
       "        vertical-align: top;\n",
       "    }\n",
       "\n",
       "    .dataframe thead th {\n",
       "        text-align: right;\n",
       "    }\n",
       "</style>\n",
       "<table border=\"1\" class=\"dataframe\">\n",
       "  <thead>\n",
       "    <tr style=\"text-align: right;\">\n",
       "      <th></th>\n",
       "      <th>count</th>\n",
       "      <th>mean</th>\n",
       "      <th>std</th>\n",
       "      <th>min</th>\n",
       "      <th>25%</th>\n",
       "      <th>50%</th>\n",
       "      <th>75%</th>\n",
       "      <th>max</th>\n",
       "    </tr>\n",
       "    <tr>\n",
       "      <th>species</th>\n",
       "      <th></th>\n",
       "      <th></th>\n",
       "      <th></th>\n",
       "      <th></th>\n",
       "      <th></th>\n",
       "      <th></th>\n",
       "      <th></th>\n",
       "      <th></th>\n",
       "    </tr>\n",
       "  </thead>\n",
       "  <tbody>\n",
       "    <tr>\n",
       "      <th>Adelie</th>\n",
       "      <td>151.0</td>\n",
       "      <td>3700.662252</td>\n",
       "      <td>458.566126</td>\n",
       "      <td>2850.0</td>\n",
       "      <td>3350.0</td>\n",
       "      <td>3700.0</td>\n",
       "      <td>4000.0</td>\n",
       "      <td>4775.0</td>\n",
       "    </tr>\n",
       "    <tr>\n",
       "      <th>Chinstrap</th>\n",
       "      <td>68.0</td>\n",
       "      <td>3733.088235</td>\n",
       "      <td>384.335081</td>\n",
       "      <td>2700.0</td>\n",
       "      <td>3487.5</td>\n",
       "      <td>3700.0</td>\n",
       "      <td>3950.0</td>\n",
       "      <td>4800.0</td>\n",
       "    </tr>\n",
       "    <tr>\n",
       "      <th>Gentoo</th>\n",
       "      <td>123.0</td>\n",
       "      <td>5076.016260</td>\n",
       "      <td>504.116237</td>\n",
       "      <td>3950.0</td>\n",
       "      <td>4700.0</td>\n",
       "      <td>5000.0</td>\n",
       "      <td>5500.0</td>\n",
       "      <td>6300.0</td>\n",
       "    </tr>\n",
       "  </tbody>\n",
       "</table>\n",
       "</div>"
      ],
      "text/plain": [
       "           count         mean         std     min     25%     50%     75%  \\\n",
       "species                                                                     \n",
       "Adelie     151.0  3700.662252  458.566126  2850.0  3350.0  3700.0  4000.0   \n",
       "Chinstrap   68.0  3733.088235  384.335081  2700.0  3487.5  3700.0  3950.0   \n",
       "Gentoo     123.0  5076.016260  504.116237  3950.0  4700.0  5000.0  5500.0   \n",
       "\n",
       "              max  \n",
       "species            \n",
       "Adelie     4775.0  \n",
       "Chinstrap  4800.0  \n",
       "Gentoo     6300.0  "
      ]
     },
     "execution_count": 27,
     "metadata": {},
     "output_type": "execute_result"
    }
   ],
   "source": [
    "penguins.groupby('species').body_mass_g.describe()"
   ]
  },
  {
   "cell_type": "code",
   "execution_count": 28,
   "id": "8a547186",
   "metadata": {
    "scrolled": true
   },
   "outputs": [
    {
     "data": {
      "image/png": "[encoded data removed]",
      "text/plain": [
       "<Figure size 432x288 with 1 Axes>"
      ]
     },
     "metadata": {
      "needs_background": "light"
     },
     "output_type": "display_data"
    }
   ],
   "source": [
    "sns.barplot(x='species', y='body_mass_g', \n",
    "            data=penguins,\n",
    "            estimator=np.max);"
   ]
  },
  {
   "cell_type": "code",
   "execution_count": 34,
   "id": "da37e7bc",
   "metadata": {},
   "outputs": [
    {
     "data": {
      "image/png": "[encoded data removed]",
      "text/plain": [
       "<Figure size 432x288 with 1 Axes>"
      ]
     },
     "metadata": {},
     "output_type": "display_data"
    }
   ],
   "source": [
    "sns.barplot(x='species', y='body_mass_g', \n",
    "            data=penguins,\n",
    "            estimator=np.min);"
   ]
  },
  {
   "cell_type": "markdown",
   "id": "cb868389",
   "metadata": {},
   "source": [
    "## Categorical Variables"
   ]
  },
  {
   "cell_type": "code",
   "execution_count": 35,
   "id": "4cc328b4",
   "metadata": {},
   "outputs": [
    {
     "data": {
      "image/png": "[encoded data removed]",
      "text/plain": [
       "<Figure size 432x288 with 1 Axes>"
      ]
     },
     "metadata": {},
     "output_type": "display_data"
    }
   ],
   "source": [
    "sns.barplot(x='species', y='body_mass_g', \n",
    "            data=penguins,\n",
    "            hue='sex'); # 2nd categorical variable is sex here."
   ]
  },
  {
   "cell_type": "code",
   "execution_count": 30,
   "id": "185cd8cc",
   "metadata": {},
   "outputs": [
    {
     "data": {
      "image/png": "[encoded data removed]",
      "text/plain": [
       "<Figure size 432x288 with 1 Axes>"
      ]
     },
     "metadata": {
      "needs_background": "light"
     },
     "output_type": "display_data"
    }
   ],
   "source": [
    "sns.barplot(x='body_mass_g', y='species',  \n",
    "            data=penguins,\n",
    "            hue='sex');"
   ]
  },
  {
   "cell_type": "markdown",
   "id": "d68de31d",
   "metadata": {},
   "source": [
    "### order, hue_order"
   ]
  },
  {
   "cell_type": "code",
   "execution_count": 31,
   "id": "c745c3b1",
   "metadata": {},
   "outputs": [
    {
     "data": {
      "image/png": "[encoded data removed]",
      "text/plain": [
       "<Figure size 432x288 with 1 Axes>"
      ]
     },
     "metadata": {
      "needs_background": "light"
     },
     "output_type": "display_data"
    }
   ],
   "source": [
    "sns.barplot(x='species', y= 'body_mass_g', \n",
    "            data=penguins,\n",
    "            order=['Gentoo', 'Chinstrap', 'Adelie']);"
   ]
  },
  {
   "cell_type": "code",
   "execution_count": 37,
   "id": "ca55c398",
   "metadata": {},
   "outputs": [
    {
     "data": {
      "image/png": "[encoded data removed]",
      "text/plain": [
       "<Figure size 432x288 with 1 Axes>"
      ]
     },
     "metadata": {},
     "output_type": "display_data"
    }
   ],
   "source": [
    "sns.barplot(x='species', y= 'body_mass_g', \n",
    "            hue='sex',\n",
    "            order=['Gentoo', 'Chinstrap', 'Adelie'],\n",
    "            data=penguins);"
   ]
  },
  {
   "cell_type": "code",
   "execution_count": 38,
   "id": "e40b412a",
   "metadata": {},
   "outputs": [
    {
     "data": {
      "image/png": "[encoded data removed]",
      "text/plain": [
       "<Figure size 432x288 with 1 Axes>"
      ]
     },
     "metadata": {},
     "output_type": "display_data"
    }
   ],
   "source": [
    "sns.barplot(x='species', y= 'body_mass_g', \n",
    "            hue='sex',\n",
    "            order=['Gentoo', 'Chinstrap', 'Adelie'],\n",
    "            hue_order=['Female', 'Male'],\n",
    "            data=penguins);"
   ]
  },
  {
   "cell_type": "markdown",
   "id": "e67b123d",
   "metadata": {},
   "source": [
    "## Styling Colors"
   ]
  },
  {
   "cell_type": "code",
   "execution_count": 33,
   "id": "039643ea",
   "metadata": {},
   "outputs": [],
   "source": [
    "sns.set_style('white')"
   ]
  },
  {
   "cell_type": "markdown",
   "id": "7ee6bddd",
   "metadata": {},
   "source": [
    "### ```color```"
   ]
  },
  {
   "cell_type": "code",
   "execution_count": 40,
   "id": "d7ffd4c2",
   "metadata": {},
   "outputs": [
    {
     "data": {
      "image/png": "[encoded data removed]",
      "text/plain": [
       "<Figure size 432x288 with 1 Axes>"
      ]
     },
     "metadata": {},
     "output_type": "display_data"
    }
   ],
   "source": [
    "sns.barplot(x='species', y='body_mass_g', \n",
    "            data=penguins); # Default colors."
   ]
  },
  {
   "cell_type": "code",
   "execution_count": 41,
   "id": "81d93afa",
   "metadata": {},
   "outputs": [
    {
     "data": {
      "image/png": "[encoded data removed]",
      "text/plain": [
       "<Figure size 432x288 with 1 Axes>"
      ]
     },
     "metadata": {},
     "output_type": "display_data"
    }
   ],
   "source": [
    "sns.barplot(x='species', y='body_mass_g', \n",
    "            data=penguins, \n",
    "            color='c');"
   ]
  },
  {
   "cell_type": "markdown",
   "id": "660b1a53",
   "metadata": {},
   "source": [
    "### ```errcolor``` and ```errwidth```"
   ]
  },
  {
   "cell_type": "code",
   "execution_count": 45,
   "id": "8a0543af",
   "metadata": {
    "scrolled": true
   },
   "outputs": [
    {
     "data": {
      "image/png": "[encoded data removed]",
      "text/plain": [
       "<Figure size 432x288 with 1 Axes>"
      ]
     },
     "metadata": {},
     "output_type": "display_data"
    }
   ],
   "source": [
    "sns.barplot(x='species', y='body_mass_g', data=penguins, \n",
    "            color='c',\n",
    "            errcolor='darkslateblue',\n",
    "            errwidth=8);"
   ]
  },
  {
   "cell_type": "code",
   "execution_count": 46,
   "id": "861b8119",
   "metadata": {},
   "outputs": [
    {
     "data": {
      "image/png": "[encoded data removed]",
      "text/plain": [
       "<Figure size 432x288 with 1 Axes>"
      ]
     },
     "metadata": {},
     "output_type": "display_data"
    }
   ],
   "source": [
    "sns.barplot(x='species', y='body_mass_g', data=penguins, \n",
    "            color='c',\n",
    "            errcolor='darkslateblue',\n",
    "            errwidth=4);"
   ]
  },
  {
   "cell_type": "markdown",
   "id": "9d38b2f9",
   "metadata": {},
   "source": [
    "### ```palette```"
   ]
  },
  {
   "cell_type": "code",
   "execution_count": 43,
   "id": "83444f16",
   "metadata": {},
   "outputs": [
    {
     "data": {
      "image/png": "[encoded data removed]",
      "text/plain": [
       "<Figure size 432x288 with 1 Axes>"
      ]
     },
     "metadata": {},
     "output_type": "display_data"
    }
   ],
   "source": [
    "sns.barplot(x='species', y='body_mass_g', \n",
    "            data=penguins,\n",
    "            palette='hot');"
   ]
  },
  {
   "cell_type": "markdown",
   "id": "6dd5f8e3",
   "metadata": {},
   "source": [
    "### ```edgecolor``` and ```linewidth```"
   ]
  },
  {
   "cell_type": "markdown",
   "id": "64858868",
   "metadata": {},
   "source": [
    "The seaborn barplot inherits from matplotlib's bar. Check the [docs](https://matplotlib.org/stable/api/_as_gen/matplotlib.axes.Axes.bar.html) for more options."
   ]
  },
  {
   "cell_type": "code",
   "execution_count": 48,
   "id": "0f0e5ccd",
   "metadata": {},
   "outputs": [
    {
     "data": {
      "image/png": "[encoded data removed]",
      "text/plain": [
       "<Figure size 432x288 with 1 Axes>"
      ]
     },
     "metadata": {},
     "output_type": "display_data"
    }
   ],
   "source": [
    "sns.barplot(x='species', y='body_mass_g', data=penguins, ci=None,\n",
    "            color='aliceblue',\n",
    "            edgecolor='mediumblue', lw=2); "
   ]
  },
  {
   "cell_type": "markdown",
   "id": "95f26aab",
   "metadata": {},
   "source": [
    "## BONUS: Stacked Barplot"
   ]
  },
  {
   "cell_type": "code",
   "execution_count": 49,
   "id": "1598f1c2",
   "metadata": {},
   "outputs": [
    {
     "data": {
      "text/html": [
       "<div>\n",
       "<style scoped>\n",
       "    .dataframe tbody tr th:only-of-type {\n",
       "        vertical-align: middle;\n",
       "    }\n",
       "\n",
       "    .dataframe tbody tr th {\n",
       "        vertical-align: top;\n",
       "    }\n",
       "\n",
       "    .dataframe thead th {\n",
       "        text-align: right;\n",
       "    }\n",
       "</style>\n",
       "<table border=\"1\" class=\"dataframe\">\n",
       "  <thead>\n",
       "    <tr style=\"text-align: right;\">\n",
       "      <th></th>\n",
       "      <th>species</th>\n",
       "      <th>island</th>\n",
       "      <th>bill_length_mm</th>\n",
       "      <th>bill_depth_mm</th>\n",
       "      <th>flipper_length_mm</th>\n",
       "      <th>body_mass_g</th>\n",
       "      <th>sex</th>\n",
       "    </tr>\n",
       "  </thead>\n",
       "  <tbody>\n",
       "    <tr>\n",
       "      <th>82</th>\n",
       "      <td>Adelie</td>\n",
       "      <td>Torgersen</td>\n",
       "      <td>36.7</td>\n",
       "      <td>18.8</td>\n",
       "      <td>187.0</td>\n",
       "      <td>3800.0</td>\n",
       "      <td>Female</td>\n",
       "    </tr>\n",
       "    <tr>\n",
       "      <th>6</th>\n",
       "      <td>Adelie</td>\n",
       "      <td>Torgersen</td>\n",
       "      <td>38.9</td>\n",
       "      <td>17.8</td>\n",
       "      <td>181.0</td>\n",
       "      <td>3625.0</td>\n",
       "      <td>Female</td>\n",
       "    </tr>\n",
       "    <tr>\n",
       "      <th>58</th>\n",
       "      <td>Adelie</td>\n",
       "      <td>Biscoe</td>\n",
       "      <td>36.5</td>\n",
       "      <td>16.6</td>\n",
       "      <td>181.0</td>\n",
       "      <td>2850.0</td>\n",
       "      <td>Female</td>\n",
       "    </tr>\n",
       "    <tr>\n",
       "      <th>14</th>\n",
       "      <td>Adelie</td>\n",
       "      <td>Torgersen</td>\n",
       "      <td>34.6</td>\n",
       "      <td>21.1</td>\n",
       "      <td>198.0</td>\n",
       "      <td>4400.0</td>\n",
       "      <td>Male</td>\n",
       "    </tr>\n",
       "    <tr>\n",
       "      <th>127</th>\n",
       "      <td>Adelie</td>\n",
       "      <td>Torgersen</td>\n",
       "      <td>41.5</td>\n",
       "      <td>18.3</td>\n",
       "      <td>195.0</td>\n",
       "      <td>4300.0</td>\n",
       "      <td>Male</td>\n",
       "    </tr>\n",
       "    <tr>\n",
       "      <th>109</th>\n",
       "      <td>Adelie</td>\n",
       "      <td>Biscoe</td>\n",
       "      <td>43.2</td>\n",
       "      <td>19.0</td>\n",
       "      <td>197.0</td>\n",
       "      <td>4775.0</td>\n",
       "      <td>Male</td>\n",
       "    </tr>\n",
       "    <tr>\n",
       "      <th>176</th>\n",
       "      <td>Chinstrap</td>\n",
       "      <td>Dream</td>\n",
       "      <td>46.7</td>\n",
       "      <td>17.9</td>\n",
       "      <td>195.0</td>\n",
       "      <td>3300.0</td>\n",
       "      <td>Female</td>\n",
       "    </tr>\n",
       "    <tr>\n",
       "      <th>182</th>\n",
       "      <td>Chinstrap</td>\n",
       "      <td>Dream</td>\n",
       "      <td>40.9</td>\n",
       "      <td>16.6</td>\n",
       "      <td>187.0</td>\n",
       "      <td>3200.0</td>\n",
       "      <td>Female</td>\n",
       "    </tr>\n",
       "    <tr>\n",
       "      <th>193</th>\n",
       "      <td>Chinstrap</td>\n",
       "      <td>Dream</td>\n",
       "      <td>46.2</td>\n",
       "      <td>17.5</td>\n",
       "      <td>187.0</td>\n",
       "      <td>3650.0</td>\n",
       "      <td>Female</td>\n",
       "    </tr>\n",
       "    <tr>\n",
       "      <th>171</th>\n",
       "      <td>Chinstrap</td>\n",
       "      <td>Dream</td>\n",
       "      <td>49.2</td>\n",
       "      <td>18.2</td>\n",
       "      <td>195.0</td>\n",
       "      <td>4400.0</td>\n",
       "      <td>Male</td>\n",
       "    </tr>\n",
       "    <tr>\n",
       "      <th>203</th>\n",
       "      <td>Chinstrap</td>\n",
       "      <td>Dream</td>\n",
       "      <td>51.4</td>\n",
       "      <td>19.0</td>\n",
       "      <td>201.0</td>\n",
       "      <td>3950.0</td>\n",
       "      <td>Male</td>\n",
       "    </tr>\n",
       "    <tr>\n",
       "      <th>199</th>\n",
       "      <td>Chinstrap</td>\n",
       "      <td>Dream</td>\n",
       "      <td>49.0</td>\n",
       "      <td>19.6</td>\n",
       "      <td>212.0</td>\n",
       "      <td>4300.0</td>\n",
       "      <td>Male</td>\n",
       "    </tr>\n",
       "    <tr>\n",
       "      <th>298</th>\n",
       "      <td>Gentoo</td>\n",
       "      <td>Biscoe</td>\n",
       "      <td>45.2</td>\n",
       "      <td>13.8</td>\n",
       "      <td>215.0</td>\n",
       "      <td>4750.0</td>\n",
       "      <td>Female</td>\n",
       "    </tr>\n",
       "    <tr>\n",
       "      <th>310</th>\n",
       "      <td>Gentoo</td>\n",
       "      <td>Biscoe</td>\n",
       "      <td>47.5</td>\n",
       "      <td>15.0</td>\n",
       "      <td>218.0</td>\n",
       "      <td>4950.0</td>\n",
       "      <td>Female</td>\n",
       "    </tr>\n",
       "    <tr>\n",
       "      <th>225</th>\n",
       "      <td>Gentoo</td>\n",
       "      <td>Biscoe</td>\n",
       "      <td>46.5</td>\n",
       "      <td>13.5</td>\n",
       "      <td>210.0</td>\n",
       "      <td>4550.0</td>\n",
       "      <td>Female</td>\n",
       "    </tr>\n",
       "    <tr>\n",
       "      <th>229</th>\n",
       "      <td>Gentoo</td>\n",
       "      <td>Biscoe</td>\n",
       "      <td>46.8</td>\n",
       "      <td>15.4</td>\n",
       "      <td>215.0</td>\n",
       "      <td>5150.0</td>\n",
       "      <td>Male</td>\n",
       "    </tr>\n",
       "    <tr>\n",
       "      <th>279</th>\n",
       "      <td>Gentoo</td>\n",
       "      <td>Biscoe</td>\n",
       "      <td>50.4</td>\n",
       "      <td>15.3</td>\n",
       "      <td>224.0</td>\n",
       "      <td>5550.0</td>\n",
       "      <td>Male</td>\n",
       "    </tr>\n",
       "    <tr>\n",
       "      <th>257</th>\n",
       "      <td>Gentoo</td>\n",
       "      <td>Biscoe</td>\n",
       "      <td>44.4</td>\n",
       "      <td>17.3</td>\n",
       "      <td>219.0</td>\n",
       "      <td>5250.0</td>\n",
       "      <td>Male</td>\n",
       "    </tr>\n",
       "  </tbody>\n",
       "</table>\n",
       "</div>"
      ],
      "text/plain": [
       "       species     island  bill_length_mm  bill_depth_mm  flipper_length_mm  \\\n",
       "82      Adelie  Torgersen            36.7           18.8              187.0   \n",
       "6       Adelie  Torgersen            38.9           17.8              181.0   \n",
       "58      Adelie     Biscoe            36.5           16.6              181.0   \n",
       "14      Adelie  Torgersen            34.6           21.1              198.0   \n",
       "127     Adelie  Torgersen            41.5           18.3              195.0   \n",
       "109     Adelie     Biscoe            43.2           19.0              197.0   \n",
       "176  Chinstrap      Dream            46.7           17.9              195.0   \n",
       "182  Chinstrap      Dream            40.9           16.6              187.0   \n",
       "193  Chinstrap      Dream            46.2           17.5              187.0   \n",
       "171  Chinstrap      Dream            49.2           18.2              195.0   \n",
       "203  Chinstrap      Dream            51.4           19.0              201.0   \n",
       "199  Chinstrap      Dream            49.0           19.6              212.0   \n",
       "298     Gentoo     Biscoe            45.2           13.8              215.0   \n",
       "310     Gentoo     Biscoe            47.5           15.0              218.0   \n",
       "225     Gentoo     Biscoe            46.5           13.5              210.0   \n",
       "229     Gentoo     Biscoe            46.8           15.4              215.0   \n",
       "279     Gentoo     Biscoe            50.4           15.3              224.0   \n",
       "257     Gentoo     Biscoe            44.4           17.3              219.0   \n",
       "\n",
       "     body_mass_g     sex  \n",
       "82        3800.0  Female  \n",
       "6         3625.0  Female  \n",
       "58        2850.0  Female  \n",
       "14        4400.0    Male  \n",
       "127       4300.0    Male  \n",
       "109       4775.0    Male  \n",
       "176       3300.0  Female  \n",
       "182       3200.0  Female  \n",
       "193       3650.0  Female  \n",
       "171       4400.0    Male  \n",
       "203       3950.0    Male  \n",
       "199       4300.0    Male  \n",
       "298       4750.0  Female  \n",
       "310       4950.0  Female  \n",
       "225       4550.0  Female  \n",
       "229       5150.0    Male  \n",
       "279       5550.0    Male  \n",
       "257       5250.0    Male  "
      ]
     },
     "execution_count": 49,
     "metadata": {},
     "output_type": "execute_result"
    }
   ],
   "source": [
    "penguins_sample = penguins.dropna().groupby(['species', 'sex']).sample(3, random_state=10)\n",
    "\n",
    "penguins_sample"
   ]
  },
  {
   "cell_type": "code",
   "execution_count": 50,
   "id": "f4bc0da9",
   "metadata": {},
   "outputs": [
    {
     "data": {
      "text/plain": [
       "'1.4.3'"
      ]
     },
     "execution_count": 50,
     "metadata": {},
     "output_type": "execute_result"
    }
   ],
   "source": [
    "pd.__version__"
   ]
  },
  {
   "cell_type": "code",
   "execution_count": 51,
   "id": "8da32658",
   "metadata": {},
   "outputs": [],
   "source": [
    "from matplotlib import pyplot as plt"
   ]
  },
  {
   "cell_type": "code",
   "execution_count": 52,
   "id": "946d1e68",
   "metadata": {},
   "outputs": [
    {
     "data": {
      "image/png": "[encoded data removed]",
      "text/plain": [
       "<Figure size 432x288 with 1 Axes>"
      ]
     },
     "metadata": {},
     "output_type": "display_data"
    }
   ],
   "source": [
    "sns.barplot(x='species', y='body_mass_g',\n",
    "            data=penguins_sample[penguins_sample.sex == 'Female'],\n",
    "            color='tab:blue',\n",
    "            order = ['Adelie', 'Chinstrap', 'Gentoo'],\n",
    "            ci=None,\n",
    "            estimator=np.sum,\n",
    "            saturation=1\n",
    "           )\n",
    "sns.barplot(x='species', y='body_mass_g',\n",
    "            data=penguins_sample[penguins_sample.sex == 'Male'],\n",
    "            color='tab:cyan',\n",
    "            order = ['Adelie', 'Chinstrap', 'Gentoo'],\n",
    "            ci = None,\n",
    "            estimator = np.sum,\n",
    "            bottom=(\n",
    "                penguins_sample[penguins_sample.sex == 'Female']\n",
    "                .groupby('species')\n",
    "                .body_mass_g\n",
    "                .sum()),\n",
    "            saturation=1\n",
    "           )\n",
    "\n",
    "plt.ylabel('Sum of body mass (g)');"
   ]
  },
  {
   "cell_type": "markdown",
   "id": "fa867a58",
   "metadata": {},
   "source": [
    "Much, much easier to accomplish this with pandas plotting method! Pandas comes with legend already built."
   ]
  },
  {
   "cell_type": "code",
   "execution_count": null,
   "id": "526dcb5b",
   "metadata": {},
   "outputs": [],
   "source": [
    "sns.set_style('white')"
   ]
  },
  {
   "cell_type": "code",
   "execution_count": 53,
   "id": "1e05ca32",
   "metadata": {},
   "outputs": [
    {
     "data": {
      "image/png": "[encoded data removed]",
      "text/plain": [
       "<Figure size 432x288 with 1 Axes>"
      ]
     },
     "metadata": {},
     "output_type": "display_data"
    }
   ],
   "source": [
    "(penguins_sample\n",
    "    .groupby(['species', 'sex'])\n",
    "    .body_mass_g\n",
    "    .sum()\n",
    "    .unstack()\n",
    ").plot(kind='bar', stacked=True, color=['tab:blue', 'tab:cyan'], width=0.8)\n",
    "\n",
    "plt.xticks(rotation=0)\n",
    "plt.ylabel('Sum of body mass (g)');"
   ]
  },
  {
   "cell_type": "code",
   "execution_count": null,
   "id": "5450b173",
   "metadata": {},
   "outputs": [],
   "source": []
  }
 ],
 "metadata": {
  "kernelspec": {
   "display_name": "Python 3 (ipykernel)",
   "language": "python",
   "name": "python3"
  },
  "language_info": {
   "codemirror_mode": {
    "name": "ipython",
    "version": 3
   },
   "file_extension": ".py",
   "mimetype": "text/x-python",
   "name": "python",
   "nbconvert_exporter": "python",
   "pygments_lexer": "ipython3",
   "version": "3.10.1"
  }
 },
 "nbformat": 4,
 "nbformat_minor": 5
}
