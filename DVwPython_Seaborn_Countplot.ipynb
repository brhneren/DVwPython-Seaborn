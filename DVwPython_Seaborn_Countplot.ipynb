{
 "cells": [
  {
   "cell_type": "markdown",
   "id": "7970fb6d",
   "metadata": {},
   "source": [
    "# Data Visualization with Seaborn-countplot\n",
    "\n",
    "[Seaborn: countplot](#Seaborn:-countplot)\n",
    "\n",
    "[Intro Visuals](#Intro-Visuals)"
   ]
  },
  {
   "cell_type": "markdown",
   "id": "7e91cb9f",
   "metadata": {},
   "source": [
    "# [Seaborn: countplot](https://github.com/kimfetti/Videos/blob/master/Seaborn/21_countplot.ipynb)\n",
    "- [YouTube-displot | Kimberly Fessel](https://www.youtube.com/watch?v=8U5h3EJuu8M)\n",
    "```python\n",
    "seaborn.countplot(x=None, y=None, hue=None, data=None, orient=None)\n",
    "```"
   ]
  },
  {
   "cell_type": "code",
   "execution_count": 1,
   "id": "45b287b6",
   "metadata": {},
   "outputs": [],
   "source": [
    "import seaborn as sns"
   ]
  },
  {
   "cell_type": "code",
   "execution_count": 3,
   "id": "50921d3f",
   "metadata": {},
   "outputs": [],
   "source": [
    "diamonds = sns.load_dataset('diamonds')"
   ]
  },
  {
   "cell_type": "code",
   "execution_count": 5,
   "id": "d951c4be",
   "metadata": {},
   "outputs": [
    {
     "data": {
      "text/html": [
       "<div>\n",
       "<style scoped>\n",
       "    .dataframe tbody tr th:only-of-type {\n",
       "        vertical-align: middle;\n",
       "    }\n",
       "\n",
       "    .dataframe tbody tr th {\n",
       "        vertical-align: top;\n",
       "    }\n",
       "\n",
       "    .dataframe thead th {\n",
       "        text-align: right;\n",
       "    }\n",
       "</style>\n",
       "<table border=\"1\" class=\"dataframe\">\n",
       "  <thead>\n",
       "    <tr style=\"text-align: right;\">\n",
       "      <th></th>\n",
       "      <th>carat</th>\n",
       "      <th>cut</th>\n",
       "      <th>color</th>\n",
       "      <th>clarity</th>\n",
       "      <th>depth</th>\n",
       "      <th>table</th>\n",
       "      <th>price</th>\n",
       "      <th>x</th>\n",
       "      <th>y</th>\n",
       "      <th>z</th>\n",
       "    </tr>\n",
       "  </thead>\n",
       "  <tbody>\n",
       "    <tr>\n",
       "      <th>0</th>\n",
       "      <td>0.23</td>\n",
       "      <td>Ideal</td>\n",
       "      <td>E</td>\n",
       "      <td>SI2</td>\n",
       "      <td>61.5</td>\n",
       "      <td>55.0</td>\n",
       "      <td>326</td>\n",
       "      <td>3.95</td>\n",
       "      <td>3.98</td>\n",
       "      <td>2.43</td>\n",
       "    </tr>\n",
       "    <tr>\n",
       "      <th>1</th>\n",
       "      <td>0.21</td>\n",
       "      <td>Premium</td>\n",
       "      <td>E</td>\n",
       "      <td>SI1</td>\n",
       "      <td>59.8</td>\n",
       "      <td>61.0</td>\n",
       "      <td>326</td>\n",
       "      <td>3.89</td>\n",
       "      <td>3.84</td>\n",
       "      <td>2.31</td>\n",
       "    </tr>\n",
       "    <tr>\n",
       "      <th>2</th>\n",
       "      <td>0.23</td>\n",
       "      <td>Good</td>\n",
       "      <td>E</td>\n",
       "      <td>VS1</td>\n",
       "      <td>56.9</td>\n",
       "      <td>65.0</td>\n",
       "      <td>327</td>\n",
       "      <td>4.05</td>\n",
       "      <td>4.07</td>\n",
       "      <td>2.31</td>\n",
       "    </tr>\n",
       "    <tr>\n",
       "      <th>3</th>\n",
       "      <td>0.29</td>\n",
       "      <td>Premium</td>\n",
       "      <td>I</td>\n",
       "      <td>VS2</td>\n",
       "      <td>62.4</td>\n",
       "      <td>58.0</td>\n",
       "      <td>334</td>\n",
       "      <td>4.20</td>\n",
       "      <td>4.23</td>\n",
       "      <td>2.63</td>\n",
       "    </tr>\n",
       "    <tr>\n",
       "      <th>4</th>\n",
       "      <td>0.31</td>\n",
       "      <td>Good</td>\n",
       "      <td>J</td>\n",
       "      <td>SI2</td>\n",
       "      <td>63.3</td>\n",
       "      <td>58.0</td>\n",
       "      <td>335</td>\n",
       "      <td>4.34</td>\n",
       "      <td>4.35</td>\n",
       "      <td>2.75</td>\n",
       "    </tr>\n",
       "  </tbody>\n",
       "</table>\n",
       "</div>"
      ],
      "text/plain": [
       "   carat      cut color clarity  depth  table  price     x     y     z\n",
       "0   0.23    Ideal     E     SI2   61.5   55.0    326  3.95  3.98  2.43\n",
       "1   0.21  Premium     E     SI1   59.8   61.0    326  3.89  3.84  2.31\n",
       "2   0.23     Good     E     VS1   56.9   65.0    327  4.05  4.07  2.31\n",
       "3   0.29  Premium     I     VS2   62.4   58.0    334  4.20  4.23  2.63\n",
       "4   0.31     Good     J     SI2   63.3   58.0    335  4.34  4.35  2.75"
      ]
     },
     "execution_count": 5,
     "metadata": {},
     "output_type": "execute_result"
    }
   ],
   "source": [
    "diamonds.head()"
   ]
  },
  {
   "cell_type": "code",
   "execution_count": 6,
   "id": "f84cc9f3",
   "metadata": {},
   "outputs": [],
   "source": [
    "diamonds = diamonds[diamonds.clarity.isin(['SI1', 'VS2'])]"
   ]
  },
  {
   "cell_type": "code",
   "execution_count": 7,
   "id": "8083a2d1",
   "metadata": {},
   "outputs": [
    {
     "data": {
      "text/plain": [
       "(25323, 10)"
      ]
     },
     "execution_count": 7,
     "metadata": {},
     "output_type": "execute_result"
    }
   ],
   "source": [
    "diamonds.shape"
   ]
  },
  {
   "cell_type": "markdown",
   "id": "6093bb90",
   "metadata": {},
   "source": [
    "## Basics"
   ]
  },
  {
   "cell_type": "code",
   "execution_count": 16,
   "id": "8d196afe",
   "metadata": {},
   "outputs": [],
   "source": [
    "sns.set_style('darkgrid')"
   ]
  },
  {
   "cell_type": "code",
   "execution_count": 17,
   "id": "eb558c75",
   "metadata": {},
   "outputs": [
    {
     "data": {
      "image/png": "[encoded data removed]",
      "text/plain": [
       "<Figure size 432x288 with 1 Axes>"
      ]
     },
     "metadata": {},
     "output_type": "display_data"
    }
   ],
   "source": [
    "sns.countplot(x='color', data=diamonds);"
   ]
  },
  {
   "cell_type": "code",
   "execution_count": 23,
   "id": "731a4d48",
   "metadata": {},
   "outputs": [
    {
     "data": {
      "text/plain": [
       "D    3780\n",
       "E    4896\n",
       "F    4332\n",
       "G    4323\n",
       "H    3918\n",
       "I    2593\n",
       "J    1481\n",
       "Name: color, dtype: int64"
      ]
     },
     "execution_count": 23,
     "metadata": {},
     "output_type": "execute_result"
    }
   ],
   "source": [
    "diamonds.color.value_counts(sort=False)"
   ]
  },
  {
   "cell_type": "markdown",
   "id": "239d63ea",
   "metadata": {},
   "source": [
    "### Horizontal Countplot"
   ]
  },
  {
   "cell_type": "code",
   "execution_count": 19,
   "id": "35556c26",
   "metadata": {},
   "outputs": [
    {
     "data": {
      "image/png": "[encoded data removed]",
      "text/plain": [
       "<Figure size 432x288 with 1 Axes>"
      ]
     },
     "metadata": {},
     "output_type": "display_data"
    }
   ],
   "source": [
    "sns.countplot(y='color', data=diamonds);"
   ]
  },
  {
   "cell_type": "markdown",
   "id": "4bc1d92e",
   "metadata": {},
   "source": [
    "## Options"
   ]
  },
  {
   "cell_type": "markdown",
   "id": "31ac15d0",
   "metadata": {},
   "source": [
    "### ```order```"
   ]
  },
  {
   "cell_type": "code",
   "execution_count": 25,
   "id": "aed9993b",
   "metadata": {},
   "outputs": [
    {
     "data": {
      "image/png": "[encoded data removed]",
      "text/plain": [
       "<Figure size 432x288 with 1 Axes>"
      ]
     },
     "metadata": {},
     "output_type": "display_data"
    }
   ],
   "source": [
    "sns.countplot(x='color', data=diamonds);"
   ]
  },
  {
   "cell_type": "code",
   "execution_count": 26,
   "id": "e5abb7fd",
   "metadata": {},
   "outputs": [
    {
     "data": {
      "image/png": "[encoded data removed]",
      "text/plain": [
       "<Figure size 432x288 with 1 Axes>"
      ]
     },
     "metadata": {},
     "output_type": "display_data"
    }
   ],
   "source": [
    "sns.countplot(x='cut', data=diamonds);"
   ]
  },
  {
   "cell_type": "code",
   "execution_count": 29,
   "id": "f667b9b3",
   "metadata": {},
   "outputs": [
    {
     "data": {
      "text/plain": [
       "carat       float64\n",
       "cut        category\n",
       "color      category\n",
       "clarity    category\n",
       "depth       float64\n",
       "table       float64\n",
       "price         int64\n",
       "x           float64\n",
       "y           float64\n",
       "z           float64\n",
       "dtype: object"
      ]
     },
     "execution_count": 29,
     "metadata": {},
     "output_type": "execute_result"
    }
   ],
   "source": [
    "diamonds.dtypes"
   ]
  },
  {
   "cell_type": "code",
   "execution_count": 30,
   "id": "f0f8ac7b",
   "metadata": {},
   "outputs": [
    {
     "data": {
      "text/plain": [
       "Index(['D', 'E', 'F', 'G', 'H', 'I', 'J'], dtype='object')"
      ]
     },
     "execution_count": 30,
     "metadata": {},
     "output_type": "execute_result"
    }
   ],
   "source": [
    "diamonds.color.cat.categories"
   ]
  },
  {
   "cell_type": "code",
   "execution_count": 31,
   "id": "73ad71b8",
   "metadata": {},
   "outputs": [
    {
     "data": {
      "text/plain": [
       "Index(['Ideal', 'Premium', 'Very Good', 'Good', 'Fair'], dtype='object')"
      ]
     },
     "execution_count": 31,
     "metadata": {},
     "output_type": "execute_result"
    }
   ],
   "source": [
    "diamonds.cut.cat.categories"
   ]
  },
  {
   "cell_type": "code",
   "execution_count": 32,
   "id": "1e2532cf",
   "metadata": {},
   "outputs": [
    {
     "data": {
      "image/png": "[encoded data removed]",
      "text/plain": [
       "<Figure size 432x288 with 1 Axes>"
      ]
     },
     "metadata": {},
     "output_type": "display_data"
    }
   ],
   "source": [
    "color_order=['J', 'I', 'H', 'G', 'F', 'E', 'D']\n",
    "\n",
    "sns.countplot(x='color', data=diamonds, order=color_order);"
   ]
  },
  {
   "cell_type": "markdown",
   "id": "d4f2f95c",
   "metadata": {},
   "source": [
    "### Order Ascending or Descending"
   ]
  },
  {
   "cell_type": "code",
   "execution_count": 35,
   "id": "585412e2",
   "metadata": {},
   "outputs": [
    {
     "data": {
      "text/plain": [
       "E    4896\n",
       "F    4332\n",
       "G    4323\n",
       "H    3918\n",
       "D    3780\n",
       "I    2593\n",
       "J    1481\n",
       "Name: color, dtype: int64"
      ]
     },
     "execution_count": 35,
     "metadata": {},
     "output_type": "execute_result"
    }
   ],
   "source": [
    "diamonds.color.value_counts()"
   ]
  },
  {
   "cell_type": "code",
   "execution_count": 36,
   "id": "1a6892d2",
   "metadata": {},
   "outputs": [
    {
     "data": {
      "text/plain": [
       "CategoricalIndex(['E', 'F', 'G', 'H', 'D', 'I', 'J'], categories=['D', 'E', 'F', 'G', 'H', 'I', 'J'], ordered=False, dtype='category')"
      ]
     },
     "execution_count": 36,
     "metadata": {},
     "output_type": "execute_result"
    }
   ],
   "source": [
    "diamonds.color.value_counts().index"
   ]
  },
  {
   "cell_type": "code",
   "execution_count": 38,
   "id": "05633d8d",
   "metadata": {},
   "outputs": [
    {
     "data": {
      "image/png": "[encoded data removed]",
      "text/plain": [
       "<Figure size 432x288 with 1 Axes>"
      ]
     },
     "metadata": {},
     "output_type": "display_data"
    }
   ],
   "source": [
    "sns.countplot(x='color', data=diamonds,\n",
    "             order=diamonds.color.value_counts().index);\n",
    "# orders descending"
   ]
  },
  {
   "cell_type": "code",
   "execution_count": 40,
   "id": "161545c9",
   "metadata": {
    "scrolled": true
   },
   "outputs": [
    {
     "data": {
      "image/png": "[encoded data removed]",
      "text/plain": [
       "<Figure size 432x288 with 1 Axes>"
      ]
     },
     "metadata": {},
     "output_type": "display_data"
    }
   ],
   "source": [
    "# To order ascending\n",
    "sns.countplot(x='color', data=diamonds,\n",
    "             order=diamonds.color.value_counts().index[::-1]);"
   ]
  },
  {
   "cell_type": "markdown",
   "id": "dff207c3",
   "metadata": {},
   "source": [
    "### ```hue```, ```hue_order```"
   ]
  },
  {
   "cell_type": "code",
   "execution_count": 44,
   "id": "c9db915d",
   "metadata": {},
   "outputs": [
    {
     "data": {
      "image/png": "[encoded data removed]",
      "text/plain": [
       "<Figure size 432x288 with 1 Axes>"
      ]
     },
     "metadata": {},
     "output_type": "display_data"
    }
   ],
   "source": [
    "sns.countplot(x='color', data=diamonds, hue='clarity');\n",
    "# Brings all different categories."
   ]
  },
  {
   "cell_type": "code",
   "execution_count": 45,
   "id": "af08875e",
   "metadata": {},
   "outputs": [
    {
     "data": {
      "image/png": "[encoded data removed]",
      "text/plain": [
       "<Figure size 432x288 with 1 Axes>"
      ]
     },
     "metadata": {},
     "output_type": "display_data"
    }
   ],
   "source": [
    "sns.countplot(x='color', data=diamonds,\n",
    "              hue='clarity', hue_order=['SI1', 'VS2']);\n",
    "# Orders by the categories that we passed in the code."
   ]
  },
  {
   "cell_type": "markdown",
   "id": "7f289781",
   "metadata": {},
   "source": [
    "## Styling"
   ]
  },
  {
   "cell_type": "markdown",
   "id": "e6bc2888",
   "metadata": {},
   "source": [
    "### ```color``` and ```palette```"
   ]
  },
  {
   "cell_type": "code",
   "execution_count": 47,
   "id": "5ee836c6",
   "metadata": {},
   "outputs": [
    {
     "data": {
      "image/png": "[encoded data removed]",
      "text/plain": [
       "<Figure size 432x288 with 1 Axes>"
      ]
     },
     "metadata": {},
     "output_type": "display_data"
    }
   ],
   "source": [
    "sns.countplot(x='color', color='skyblue', data=diamonds);"
   ]
  },
  {
   "cell_type": "code",
   "execution_count": 48,
   "id": "ab5c5da2",
   "metadata": {},
   "outputs": [
    {
     "data": {
      "image/png": "[encoded data removed]",
      "text/plain": [
       "<Figure size 432x288 with 1 Axes>"
      ]
     },
     "metadata": {},
     "output_type": "display_data"
    }
   ],
   "source": [
    "sns.countplot(x='color', palette='twilight', data=diamonds);"
   ]
  },
  {
   "cell_type": "markdown",
   "id": "4bfdfa42",
   "metadata": {},
   "source": [
    "### Other Matplotlib Properties"
   ]
  },
  {
   "cell_type": "code",
   "execution_count": 50,
   "id": "98de8ddb",
   "metadata": {},
   "outputs": [
    {
     "data": {
      "image/png": "[encoded data removed]",
      "text/plain": [
       "<Figure size 432x288 with 1 Axes>"
      ]
     },
     "metadata": {},
     "output_type": "display_data"
    }
   ],
   "source": [
    "sns.countplot(x='color', data=diamonds,\n",
    "              lw=4);"
   ]
  },
  {
   "cell_type": "code",
   "execution_count": 53,
   "id": "e364d434",
   "metadata": {},
   "outputs": [
    {
     "data": {
      "image/png": "[encoded data removed]",
      "text/plain": [
       "<Figure size 432x288 with 1 Axes>"
      ]
     },
     "metadata": {},
     "output_type": "display_data"
    }
   ],
   "source": [
    "sns.countplot(x='color', data=diamonds,\n",
    "              lw=4, ec='black');"
   ]
  },
  {
   "cell_type": "code",
   "execution_count": 52,
   "id": "9aaf0e87",
   "metadata": {},
   "outputs": [
    {
     "data": {
      "image/png": "[encoded data removed]",
      "text/plain": [
       "<Figure size 432x288 with 1 Axes>"
      ]
     },
     "metadata": {},
     "output_type": "display_data"
    }
   ],
   "source": [
    "sns.countplot(x='color', data=diamonds,\n",
    "              lw=4, ec='black', hatch='/');"
   ]
  },
  {
   "cell_type": "markdown",
   "id": "3d5f32e5",
   "metadata": {},
   "source": [
    "## Examples, Thumbnail"
   ]
  },
  {
   "cell_type": "code",
   "execution_count": 55,
   "id": "d0c12364",
   "metadata": {},
   "outputs": [],
   "source": [
    "from matplotlib import pyplot as plt"
   ]
  },
  {
   "cell_type": "code",
   "execution_count": 56,
   "id": "b5019366",
   "metadata": {},
   "outputs": [
    {
     "data": {
      "image/png": "[encoded data removed]",
      "text/plain": [
       "<Figure size 432x288 with 1 Axes>"
      ]
     },
     "metadata": {},
     "output_type": "display_data"
    }
   ],
   "source": [
    "sns.set(style='darkgrid', font_scale=1.3)\n",
    "sns.countplot(x='cut', data=diamonds, color='navy', lw=3)\n",
    "plt.xlabel('')\n",
    "plt.ylabel('Count')\n",
    "\n",
    "\n",
    "plt.tight_layout()\n",
    "#plt.savefig('20countplot_image_countplotExample.png', dpi=200);"
   ]
  },
  {
   "cell_type": "code",
   "execution_count": 57,
   "id": "a621e89d",
   "metadata": {},
   "outputs": [],
   "source": [
    "sns.set_style('white')\n",
    "\n",
    "import pandas as pd\n",
    "\n",
    "df = pd.DataFrame({'Animal': ['dog', 'cat', 'cat', 'dog', 'dog', 'cat', 'dog'],\n",
    "                   'Weight': [55, 8, 12, 25, 100, 10, 60]})"
   ]
  },
  {
   "cell_type": "code",
   "execution_count": 58,
   "id": "397ba752",
   "metadata": {},
   "outputs": [
    {
     "data": {
      "text/html": [
       "<div>\n",
       "<style scoped>\n",
       "    .dataframe tbody tr th:only-of-type {\n",
       "        vertical-align: middle;\n",
       "    }\n",
       "\n",
       "    .dataframe tbody tr th {\n",
       "        vertical-align: top;\n",
       "    }\n",
       "\n",
       "    .dataframe thead th {\n",
       "        text-align: right;\n",
       "    }\n",
       "</style>\n",
       "<table border=\"1\" class=\"dataframe\">\n",
       "  <thead>\n",
       "    <tr style=\"text-align: right;\">\n",
       "      <th></th>\n",
       "      <th>Animal</th>\n",
       "      <th>Weight</th>\n",
       "    </tr>\n",
       "  </thead>\n",
       "  <tbody>\n",
       "    <tr>\n",
       "      <th>0</th>\n",
       "      <td>dog</td>\n",
       "      <td>55</td>\n",
       "    </tr>\n",
       "    <tr>\n",
       "      <th>1</th>\n",
       "      <td>cat</td>\n",
       "      <td>8</td>\n",
       "    </tr>\n",
       "    <tr>\n",
       "      <th>2</th>\n",
       "      <td>cat</td>\n",
       "      <td>12</td>\n",
       "    </tr>\n",
       "    <tr>\n",
       "      <th>3</th>\n",
       "      <td>dog</td>\n",
       "      <td>25</td>\n",
       "    </tr>\n",
       "    <tr>\n",
       "      <th>4</th>\n",
       "      <td>dog</td>\n",
       "      <td>100</td>\n",
       "    </tr>\n",
       "    <tr>\n",
       "      <th>5</th>\n",
       "      <td>cat</td>\n",
       "      <td>10</td>\n",
       "    </tr>\n",
       "    <tr>\n",
       "      <th>6</th>\n",
       "      <td>dog</td>\n",
       "      <td>60</td>\n",
       "    </tr>\n",
       "  </tbody>\n",
       "</table>\n",
       "</div>"
      ],
      "text/plain": [
       "  Animal  Weight\n",
       "0    dog      55\n",
       "1    cat       8\n",
       "2    cat      12\n",
       "3    dog      25\n",
       "4    dog     100\n",
       "5    cat      10\n",
       "6    dog      60"
      ]
     },
     "execution_count": 58,
     "metadata": {},
     "output_type": "execute_result"
    }
   ],
   "source": [
    "df"
   ]
  },
  {
   "cell_type": "code",
   "execution_count": 59,
   "id": "fdcea9cf",
   "metadata": {},
   "outputs": [
    {
     "data": {
      "image/png": "[encoded data removed]",
      "text/plain": [
       "<Figure size 360x432 with 1 Axes>"
      ]
     },
     "metadata": {},
     "output_type": "display_data"
    }
   ],
   "source": [
    "plt.figure(figsize=(5, 6))\n",
    "\n",
    "sns.countplot(x='Animal', data=df, ec='black', lw=3, palette=['darkred', '#2F8F8F'])\n",
    "\n",
    "plt.yticks([0, 1, 2, 3, 4])\n",
    "plt.ylabel('Count', labelpad=20)\n",
    "\n",
    "sns.despine()\n",
    "\n",
    "plt.tight_layout()\n",
    "#plt.savefig('21countplot_figure_dogsCats.svg');"
   ]
  },
  {
   "cell_type": "code",
   "execution_count": 60,
   "id": "37710fc5",
   "metadata": {},
   "outputs": [
    {
     "data": {
      "text/plain": [
       "Animal\n",
       "cat    10.0\n",
       "dog    60.0\n",
       "Name: Weight, dtype: float64"
      ]
     },
     "execution_count": 60,
     "metadata": {},
     "output_type": "execute_result"
    }
   ],
   "source": [
    "df.groupby('Animal').Weight.mean()"
   ]
  },
  {
   "cell_type": "code",
   "execution_count": 61,
   "id": "2010907f",
   "metadata": {},
   "outputs": [
    {
     "data": {
      "image/png": "[encoded data removed]",
      "text/plain": [
       "<Figure size 360x432 with 1 Axes>"
      ]
     },
     "metadata": {},
     "output_type": "display_data"
    }
   ],
   "source": [
    "\n",
    "plt.figure(figsize=(5, 6))\n",
    "\n",
    "sns.barplot(x='Animal', y='Weight', data=df, ec='black', lw=3, \n",
    "            palette=['darkred', '#2F8F8F'],\n",
    "            ci=None\n",
    "           )\n",
    "\n",
    "plt.ylim(0, 75)\n",
    "plt.ylabel('Weight', labelpad=20)\n",
    "\n",
    "sns.despine()\n",
    "\n",
    "plt.tight_layout()\n",
    "#plt.savefig('21countplot_figure_dogsCats_bar_noCI.svg');"
   ]
  },
  {
   "cell_type": "code",
   "execution_count": 62,
   "id": "d512aa55",
   "metadata": {},
   "outputs": [
    {
     "data": {
      "image/png": "[encoded data removed]",
      "text/plain": [
       "<Figure size 360x432 with 1 Axes>"
      ]
     },
     "metadata": {},
     "output_type": "display_data"
    }
   ],
   "source": [
    "plt.figure(figsize=(5, 6))\n",
    "\n",
    "sns.barplot(x='Animal', y='Weight', data=df, ec='black', lw=3, \n",
    "            palette=['darkred', '#2F8F8F'],\n",
    "            ci=68, errcolor='black'\n",
    "           )\n",
    "\n",
    "plt.ylim(0, 75)\n",
    "plt.ylabel('Weight', labelpad=20)\n",
    "\n",
    "sns.despine()\n",
    "\n",
    "plt.tight_layout()\n",
    "#plt.savefig('21countplot_figure_dogsCats_bar_withCI.svg');"
   ]
  },
  {
   "cell_type": "code",
   "execution_count": 63,
   "id": "dbc27e0d",
   "metadata": {},
   "outputs": [
    {
     "data": {
      "image/png": "[encoded data removed]",
      "text/plain": [
       "<Figure size 504x288 with 1 Axes>"
      ]
     },
     "metadata": {},
     "output_type": "display_data"
    }
   ],
   "source": [
    "plt.figure(figsize=(7,4))\n",
    "sns.set(style='white', font_scale=1.2)\n",
    "ax = sns.countplot(x='color', data=diamonds, \n",
    "                   hue='clarity', hue_order=['SI1', 'VS2'], \n",
    "                   palette=['#2F8F8F', 'lightgray'])\n",
    "ax.legend([], frameon=False)\n",
    "sns.despine()\n",
    "\n",
    "plt.xlabel('')\n",
    "plt.ylabel('Count', labelpad=10)\n",
    "plt.tight_layout()\n",
    "#plt.savefig('21countplot_image_thumb.png', dpi=200);"
   ]
  },
  {
   "cell_type": "code",
   "execution_count": null,
   "id": "b1d59dc2",
   "metadata": {},
   "outputs": [],
   "source": []
  }
 ],
 "metadata": {
  "kernelspec": {
   "display_name": "Python 3 (ipykernel)",
   "language": "python",
   "name": "python3"
  },
  "language_info": {
   "codemirror_mode": {
    "name": "ipython",
    "version": 3
   },
   "file_extension": ".py",
   "mimetype": "text/x-python",
   "name": "python",
   "nbconvert_exporter": "python",
   "pygments_lexer": "ipython3",
   "version": "3.10.1"
  }
 },
 "nbformat": 4,
 "nbformat_minor": 5
}
